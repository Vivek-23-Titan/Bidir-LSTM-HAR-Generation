{
  "nbformat": 4,
  "nbformat_minor": 0,
  "metadata": {
    "colab": {
      "name": "Comparison of Activity Classifier Performance.ipynb",
      "provenance": [],
      "collapsed_sections": [],
      "machine_shape": "hm",
      "include_colab_link": true
    },
    "kernelspec": {
      "name": "python3",
      "display_name": "Python 3"
    },
    "accelerator": "GPU"
  },
  "cells": [
    {
      "cell_type": "markdown",
      "metadata": {
        "id": "view-in-github",
        "colab_type": "text"
      },
      "source": [
        "<a href=\"https://colab.research.google.com/github/Vivek-23-Titan/Bidir-LSTM-HAR-Generation/blob/master/Comparison_of_Activity_Classifier_Performance.ipynb\" target=\"_parent\"><img src=\"https://colab.research.google.com/assets/colab-badge.svg\" alt=\"Open In Colab\"/></a>"
      ]
    },
    {
      "cell_type": "markdown",
      "metadata": {
        "id": "TFtdBhoyx1Fl",
        "colab_type": "text"
      },
      "source": [
        "##**Importing Libraries**##"
      ]
    },
    {
      "cell_type": "code",
      "metadata": {
        "id": "x1USqktINlQ9",
        "colab_type": "code",
        "colab": {}
      },
      "source": [
        "from __future__ import print_function, division\n",
        "from matplotlib import pyplot as plt\n",
        "%matplotlib inline\n",
        "%pylab inline\n",
        "import numpy as np\n",
        "import pandas as pd\n",
        "import seaborn as sns\n",
        "import sys\n",
        "\n",
        "!pip install -U coremltools\n",
        "import coremltools\n",
        "from scipy import stats\n",
        "from IPython.display import display, HTML\n",
        "\n",
        "from sklearn import metrics\n",
        "from sklearn.metrics import classification_report\n",
        "from sklearn import preprocessing\n",
        "\n",
        "import tensorflow.keras\n",
        "from keras.models import Sequential, Model\n",
        "from keras.layers import Dense, Flatten, Reshape, Dropout, Concatenate, Embedding, Activation\n",
        "from keras.layers import Input, LeakyReLU, BatchNormalization, ReLU, Conv1D, MaxPooling1D\n",
        "from keras.optimizers import Adam\n",
        "\n",
        "import keras_preprocessing\n",
        "from keras_preprocessing import image\n",
        "\n",
        "from keras import initializers\n",
        "import keras.utils\n",
        "from keras.utils import plot_model, np_utils\n",
        "from keras import backend as K\n",
        "\n",
        "import tensorflow as tf\n",
        "print(tf.__version__)"
      ],
      "execution_count": null,
      "outputs": []
    },
    {
      "cell_type": "markdown",
      "metadata": {
        "id": "eqihScXlyFta",
        "colab_type": "text"
      },
      "source": [
        "##**Linking Drive to obtain the WISDM Dataset**##"
      ]
    },
    {
      "cell_type": "code",
      "metadata": {
        "id": "S8jDDDFgwtRq",
        "colab_type": "code",
        "colab": {}
      },
      "source": [
        "from google.colab import drive\n",
        "drive.mount('/content/drive')"
      ],
      "execution_count": null,
      "outputs": []
    },
    {
      "cell_type": "code",
      "metadata": {
        "id": "UffU9IHcNmVu",
        "colab_type": "code",
        "colab": {
          "base_uri": "https://localhost:8080/",
          "height": 34
        },
        "outputId": "2d684b2f-ed37-4126-ff5c-f14cfc410f8d"
      },
      "source": [
        "from zipfile import ZipFile\n",
        "file_name = '/content/drive/My Drive/WISDM_ar_v1.1_raw.zip'\n",
        "\n",
        "with ZipFile(file_name, 'r') as zip:\n",
        "  zip.extractall()\n",
        "  print('done')"
      ],
      "execution_count": null,
      "outputs": [
        {
          "output_type": "stream",
          "text": [
            "done\n"
          ],
          "name": "stdout"
        }
      ]
    },
    {
      "cell_type": "code",
      "metadata": {
        "id": "OLvMJVBeR5np",
        "colab_type": "code",
        "colab": {
          "base_uri": "https://localhost:8080/",
          "height": 34
        },
        "outputId": "55633d42-0a82-43e2-8ba4-198274e274c4"
      },
      "source": [
        "# Set some standard parameters upfront\n",
        "pd.options.display.float_format = '{:.1f}'.format\n",
        "sns.set() # Default seaborn look and feel\n",
        "plt.style.use('ggplot')\n",
        "print('keras version ', keras.__version__)\n",
        "# Same labels will be reused throughout the program\n",
        "LABELS = ['Downstairs',\n",
        "          'Jogging',\n",
        "          'Sitting',\n",
        "          'Standing',\n",
        "          'Upstairs',\n",
        "          'Walking']\n",
        "# The number of steps within one time segment\n",
        "TIME_PERIODS = 160\n",
        "# The steps to take from one segment to the next; if this value is equal to\n",
        "# TIME_PERIODS, then there is no overlap between the segments\n",
        "STEP_DISTANCE = 30"
      ],
      "execution_count": null,
      "outputs": [
        {
          "output_type": "stream",
          "text": [
            "keras version  2.3.1\n"
          ],
          "name": "stdout"
        }
      ]
    },
    {
      "cell_type": "code",
      "metadata": {
        "id": "ozt8oL2CNkkY",
        "colab_type": "code",
        "colab": {}
      },
      "source": [
        "def read_data(file_path):\n",
        "\n",
        "    column_names = ['user-id',\n",
        "                    'activity',\n",
        "                    'timestamp',\n",
        "                    'x-axis',\n",
        "                    'y-axis',\n",
        "                    'z-axis']\n",
        "    df = pd.read_csv(file_path,\n",
        "                     header=None,\n",
        "                     names=column_names)\n",
        "    # Last column has a \";\" character which must be removed ...\n",
        "    df['z-axis'].replace(regex=True,\n",
        "      inplace=True,\n",
        "      to_replace=r';',\n",
        "      value=r'')\n",
        "    # ... and then this column must be transformed to float explicitly\n",
        "    df['z-axis'] = df['z-axis'].apply(convert_to_float)\n",
        "    # This is very important otherwise the model will not fit and loss\n",
        "    # will show up as NAN\n",
        "    df.dropna(axis=0, how='any', inplace=True)\n",
        "\n",
        "    return df\n",
        "\n",
        "def convert_to_float(x):\n",
        "\n",
        "    try:\n",
        "        return np.float(x)\n",
        "    except:\n",
        "        return np.nan\n",
        " \n",
        "def show_basic_dataframe_info(dataframe):\n",
        "\n",
        "    # Shape and how many rows and columns\n",
        "    print('Number of columns in the dataframe: %i' % (dataframe.shape[1]))\n",
        "    print('Number of rows in the dataframe: %i\\n' % (dataframe.shape[0]))\n",
        "\n",
        "# Load data set containing all the data from csv\n",
        "df = read_data('/content/drive/My Drive/WISDM_ar_v1.1_raw.zip')"
      ],
      "execution_count": null,
      "outputs": []
    },
    {
      "cell_type": "markdown",
      "metadata": {
        "id": "VEd5vNS1yO0U",
        "colab_type": "text"
      },
      "source": [
        "##**Dataset Characteristics**##"
      ]
    },
    {
      "cell_type": "code",
      "metadata": {
        "id": "bPiUlfS4NkiW",
        "colab_type": "code",
        "colab": {
          "base_uri": "https://localhost:8080/",
          "height": 470
        },
        "outputId": "cfca53ff-7f28-4270-a1d8-d31eb89340e6"
      },
      "source": [
        "# Describe the data\n",
        "show_basic_dataframe_info(df)\n",
        "df.head(2384612)"
      ],
      "execution_count": null,
      "outputs": [
        {
          "output_type": "stream",
          "text": [
            "Number of columns in the dataframe: 6\n",
            "Number of rows in the dataframe: 1098203\n",
            "\n"
          ],
          "name": "stdout"
        },
        {
          "output_type": "execute_result",
          "data": {
            "text/html": [
              "<div>\n",
              "<style scoped>\n",
              "    .dataframe tbody tr th:only-of-type {\n",
              "        vertical-align: middle;\n",
              "    }\n",
              "\n",
              "    .dataframe tbody tr th {\n",
              "        vertical-align: top;\n",
              "    }\n",
              "\n",
              "    .dataframe thead th {\n",
              "        text-align: right;\n",
              "    }\n",
              "</style>\n",
              "<table border=\"1\" class=\"dataframe\">\n",
              "  <thead>\n",
              "    <tr style=\"text-align: right;\">\n",
              "      <th></th>\n",
              "      <th>user-id</th>\n",
              "      <th>activity</th>\n",
              "      <th>timestamp</th>\n",
              "      <th>x-axis</th>\n",
              "      <th>y-axis</th>\n",
              "      <th>z-axis</th>\n",
              "    </tr>\n",
              "  </thead>\n",
              "  <tbody>\n",
              "    <tr>\n",
              "      <th>0</th>\n",
              "      <td>33</td>\n",
              "      <td>Jogging</td>\n",
              "      <td>49105962326000</td>\n",
              "      <td>-0.7</td>\n",
              "      <td>12.7</td>\n",
              "      <td>0.5</td>\n",
              "    </tr>\n",
              "    <tr>\n",
              "      <th>1</th>\n",
              "      <td>33</td>\n",
              "      <td>Jogging</td>\n",
              "      <td>49106062271000</td>\n",
              "      <td>5.0</td>\n",
              "      <td>11.3</td>\n",
              "      <td>1.0</td>\n",
              "    </tr>\n",
              "    <tr>\n",
              "      <th>2</th>\n",
              "      <td>33</td>\n",
              "      <td>Jogging</td>\n",
              "      <td>49106112167000</td>\n",
              "      <td>4.9</td>\n",
              "      <td>10.9</td>\n",
              "      <td>-0.1</td>\n",
              "    </tr>\n",
              "    <tr>\n",
              "      <th>3</th>\n",
              "      <td>33</td>\n",
              "      <td>Jogging</td>\n",
              "      <td>49106222305000</td>\n",
              "      <td>-0.6</td>\n",
              "      <td>18.5</td>\n",
              "      <td>3.0</td>\n",
              "    </tr>\n",
              "    <tr>\n",
              "      <th>4</th>\n",
              "      <td>33</td>\n",
              "      <td>Jogging</td>\n",
              "      <td>49106332290000</td>\n",
              "      <td>-1.2</td>\n",
              "      <td>12.1</td>\n",
              "      <td>7.2</td>\n",
              "    </tr>\n",
              "    <tr>\n",
              "      <th>...</th>\n",
              "      <td>...</td>\n",
              "      <td>...</td>\n",
              "      <td>...</td>\n",
              "      <td>...</td>\n",
              "      <td>...</td>\n",
              "      <td>...</td>\n",
              "    </tr>\n",
              "    <tr>\n",
              "      <th>1098199</th>\n",
              "      <td>19</td>\n",
              "      <td>Sitting</td>\n",
              "      <td>131623331483000</td>\n",
              "      <td>9.0</td>\n",
              "      <td>-1.6</td>\n",
              "      <td>1.7</td>\n",
              "    </tr>\n",
              "    <tr>\n",
              "      <th>1098200</th>\n",
              "      <td>19</td>\n",
              "      <td>Sitting</td>\n",
              "      <td>131623371431000</td>\n",
              "      <td>9.0</td>\n",
              "      <td>-1.5</td>\n",
              "      <td>1.7</td>\n",
              "    </tr>\n",
              "    <tr>\n",
              "      <th>1098201</th>\n",
              "      <td>19</td>\n",
              "      <td>Sitting</td>\n",
              "      <td>131623411592000</td>\n",
              "      <td>9.1</td>\n",
              "      <td>-1.4</td>\n",
              "      <td>1.7</td>\n",
              "    </tr>\n",
              "    <tr>\n",
              "      <th>1098202</th>\n",
              "      <td>19</td>\n",
              "      <td>Sitting</td>\n",
              "      <td>131623491487000</td>\n",
              "      <td>9.0</td>\n",
              "      <td>-1.5</td>\n",
              "      <td>1.7</td>\n",
              "    </tr>\n",
              "    <tr>\n",
              "      <th>1098203</th>\n",
              "      <td>19</td>\n",
              "      <td>Sitting</td>\n",
              "      <td>131623531465000</td>\n",
              "      <td>8.9</td>\n",
              "      <td>-1.3</td>\n",
              "      <td>1.6</td>\n",
              "    </tr>\n",
              "  </tbody>\n",
              "</table>\n",
              "<p>1098203 rows × 6 columns</p>\n",
              "</div>"
            ],
            "text/plain": [
              "         user-id activity        timestamp  x-axis  y-axis  z-axis\n",
              "0             33  Jogging   49105962326000    -0.7    12.7     0.5\n",
              "1             33  Jogging   49106062271000     5.0    11.3     1.0\n",
              "2             33  Jogging   49106112167000     4.9    10.9    -0.1\n",
              "3             33  Jogging   49106222305000    -0.6    18.5     3.0\n",
              "4             33  Jogging   49106332290000    -1.2    12.1     7.2\n",
              "...          ...      ...              ...     ...     ...     ...\n",
              "1098199       19  Sitting  131623331483000     9.0    -1.6     1.7\n",
              "1098200       19  Sitting  131623371431000     9.0    -1.5     1.7\n",
              "1098201       19  Sitting  131623411592000     9.1    -1.4     1.7\n",
              "1098202       19  Sitting  131623491487000     9.0    -1.5     1.7\n",
              "1098203       19  Sitting  131623531465000     8.9    -1.3     1.6\n",
              "\n",
              "[1098203 rows x 6 columns]"
            ]
          },
          "metadata": {
            "tags": []
          },
          "execution_count": 7
        }
      ]
    },
    {
      "cell_type": "code",
      "metadata": {
        "id": "OGKHvwxFN4du",
        "colab_type": "code",
        "colab": {
          "base_uri": "https://localhost:8080/",
          "height": 608
        },
        "outputId": "59b9bdff-6e08-4787-e968-8146b4a5fbbc"
      },
      "source": [
        "# Show how many training examples exist for each of the six activities\n",
        "df['activity'].value_counts().plot(kind='bar',\n",
        "                                   title='Training Examples by Activity Type')\n",
        "plt.show()\n",
        "# Better understand how the recordings are spread across the different\n",
        "# users who participated in the study\n",
        "df['user-id'].value_counts().plot(kind='bar',\n",
        "                                  title='Training Examples by User')\n",
        "plt.show()"
      ],
      "execution_count": null,
      "outputs": [
        {
          "output_type": "display_data",
          "data": {
            "image/png": "[encoded data removed]",
            "text/plain": [
              "<Figure size 432x288 with 1 Axes>"
            ]
          },
          "metadata": {
            "tags": []
          }
        },
        {
          "output_type": "display_data",
          "data": {
            "image/png": "[encoded data removed]",
            "text/plain": [
              "<Figure size 432x288 with 1 Axes>"
            ]
          },
          "metadata": {
            "tags": []
          }
        }
      ]
    },
    {
      "cell_type": "code",
      "metadata": {
        "id": "iTbBrJ_dN4aQ",
        "colab_type": "code",
        "colab": {}
      },
      "source": [
        "#Plot and visualize the Data sequences for each activity\n",
        "def plot_activity(activity, data):\n",
        "\n",
        "    fig, (ax0, ax1, ax2) = plt.subplots(nrows=3,\n",
        "         figsize=(8, 6),\n",
        "         sharex=True)\n",
        "    plot_axis(ax0, data['timestamp'], data['x-axis'], 'X-Axis')\n",
        "    plot_axis(ax1, data['timestamp'], data['y-axis'], 'Y-Axis')\n",
        "    plot_axis(ax2, data['timestamp'], data['z-axis'], 'Z-Axis')\n",
        "    plt.subplots_adjust(hspace=0.8)\n",
        "    fig.suptitle(activity)\n",
        "    plt.subplots_adjust(top=0.90)\n",
        "    plt.show()\n",
        "\n",
        "def plot_axis(ax, x, y, title):\n",
        "\n",
        "    ax.plot(x, y, 'r')\n",
        "    ax.set_title(title)\n",
        "    ax.xaxis.set_visible(False)\n",
        "    ax.set_ylim([min(y) - np.std(y), max(y) + np.std(y)])\n",
        "    ax.set_xlim([min(x), max(x)])\n",
        "    ax.grid(True)\n",
        "\n",
        "for activity in np.unique(df['activity']):\n",
        "    subset = df[df['activity'] == activity][:160]\n",
        "    plot_activity(activity, subset)"
      ],
      "execution_count": null,
      "outputs": []
    },
    {
      "cell_type": "code",
      "metadata": {
        "id": "-UUjYybGN4S-",
        "colab_type": "code",
        "colab": {}
      },
      "source": [
        "# Define column name of the label vector\n",
        "LABEL = 'ActivityEncoded'\n",
        "# Transform the labels from String to Integer via LabelEncoder\n",
        "le = preprocessing.LabelEncoder()\n",
        "# Add a new column to the existing DataFrame with the encoded values\n",
        "df[LABEL] = le.fit_transform(df['activity'].values.ravel())"
      ],
      "execution_count": null,
      "outputs": []
    },
    {
      "cell_type": "code",
      "metadata": {
        "id": "m3eSK3BISP5v",
        "colab_type": "code",
        "colab": {}
      },
      "source": [
        "# Differentiate between test set and training set\n",
        "df_test = df[df['user-id'] > 33]\n",
        "df_train = df[df['user-id'] <= 33]"
      ],
      "execution_count": null,
      "outputs": []
    },
    {
      "cell_type": "code",
      "metadata": {
        "id": "PiqfJ_sBN4N_",
        "colab_type": "code",
        "colab": {}
      },
      "source": [
        "# Normalize features for training data set (values between 0 and 1)\n",
        "# Surpress warning for next 3 operation\n",
        "pd.options.mode.chained_assignment = None  # default='warn'\n",
        "df_train['x-axis'] = df_train['x-axis'] / df_train['x-axis'].max()\n",
        "df_train['y-axis'] = df_train['y-axis'] / df_train['y-axis'].max()\n",
        "df_train['z-axis'] = df_train['z-axis'] / df_train['z-axis'].max()\n",
        "# Round numbers\n",
        "df_train = df_train.round({'x-axis': 4, 'y-axis': 4, 'z-axis': 4})\n",
        "# Normalize features for testing data set (values between 0 and 1)\n",
        "# Surpress warning for next 3 operation\n",
        "pd.options.mode.chained_assignment = None  # default='warn'\n",
        "df_test['x-axis'] = df_test['x-axis'] / df_test['x-axis'].max()\n",
        "df_test['y-axis'] = df_test['y-axis'] / df_test['y-axis'].max()\n",
        "df_test['z-axis'] = df_test['z-axis'] / df_test['z-axis'].max()\n",
        "# Round numbers\n",
        "df_test = df_test.round({'x-axis': 4, 'y-axis': 4, 'z-axis': 4})"
      ],
      "execution_count": null,
      "outputs": []
    },
    {
      "cell_type": "code",
      "metadata": {
        "id": "nxTMVYu_N4Lb",
        "colab_type": "code",
        "colab": {}
      },
      "source": [
        "def create_segments_and_labels(df, time_steps, step, label_name):\n",
        "\n",
        "    # x, y, z acceleration as features\n",
        "    N_FEATURES = 3\n",
        "    # Number of steps to advance in each iteration (for me, it should always\n",
        "    # be equal to the time_steps in order to have no overlap between segments)\n",
        "    # step = time_steps\n",
        "    segments = []\n",
        "    labels = []\n",
        "    for i in range(0, len(df) - time_steps, step):\n",
        "        xs = df['x-axis'].values[i: i + time_steps]\n",
        "        ys = df['y-axis'].values[i: i + time_steps]\n",
        "        zs = df['z-axis'].values[i: i + time_steps]\n",
        "        # Retrieve the most often used label in this segment\n",
        "        label = stats.mode(df[label_name][i: i + time_steps])[0][0]\n",
        "        segments.append([xs, ys, zs])\n",
        "        labels.append(label)\n",
        "\n",
        "    # Bring the segments into a better shape\n",
        "    reshaped_segments = np.asarray(segments, dtype= np.float32).reshape(-1, time_steps, N_FEATURES)\n",
        "    labels = np.asarray(labels)\n",
        "\n",
        "    return reshaped_segments, labels\n",
        "\n",
        "x_train, y_train = create_segments_and_labels(df_train,\n",
        "                                              TIME_PERIODS,\n",
        "                                              STEP_DISTANCE,\n",
        "                                              LABEL)\n",
        "x_test, y_test = create_segments_and_labels(df_test,\n",
        "                                              TIME_PERIODS,\n",
        "                                              STEP_DISTANCE,\n",
        "                                              LABEL)"
      ],
      "execution_count": null,
      "outputs": []
    },
    {
      "cell_type": "code",
      "metadata": {
        "id": "ctZkMeRlS719",
        "colab_type": "code",
        "colab": {}
      },
      "source": [
        "#Saving training and testing data in different arrays\n",
        "X1 = x_train\n",
        "Y1 = y_train\n",
        "X2 = x_test\n",
        "Y2 = y_test"
      ],
      "execution_count": null,
      "outputs": []
    },
    {
      "cell_type": "code",
      "metadata": {
        "id": "kiDr_OjkOPnO",
        "colab_type": "code",
        "colab": {
          "base_uri": "https://localhost:8080/",
          "height": 119
        },
        "outputId": "49b48e21-0794-4762-fbb5-95e859b71c1b"
      },
      "source": [
        "print('x_train shape: ', x_train.shape)\n",
        "print(x_train.shape[0], 'training samples')\n",
        "print('y_train shape: ', y_train.shape)\n",
        "print('x_test shape: ', x_test.shape)\n",
        "print(x_test.shape[0], 'testing samples')\n",
        "print('y_test shape: ', y_test.shape)"
      ],
      "execution_count": null,
      "outputs": [
        {
          "output_type": "stream",
          "text": [
            "x_train shape:  (33582, 160, 3)\n",
            "33582 training samples\n",
            "y_train shape:  (33582,)\n",
            "x_test shape:  (3015, 160, 3)\n",
            "3015 testing samples\n",
            "y_test shape:  (3015,)\n"
          ],
          "name": "stdout"
        }
      ]
    },
    {
      "cell_type": "code",
      "metadata": {
        "id": "1yxgPCkgOPkl",
        "colab_type": "code",
        "colab": {
          "base_uri": "https://localhost:8080/",
          "height": 34
        },
        "outputId": "64443857-f0ba-4030-bb88-f4e4ad50e110"
      },
      "source": [
        "# Set input & output dimensions\n",
        "num_time_periods, num_sensors = x_train.shape[1], x_train.shape[2]\n",
        "num_classes = le.classes_.size\n",
        "print(list(le.classes_))"
      ],
      "execution_count": null,
      "outputs": [
        {
          "output_type": "stream",
          "text": [
            "['Downstairs', 'Jogging', 'Sitting', 'Standing', 'Upstairs', 'Walking']\n"
          ],
          "name": "stdout"
        }
      ]
    },
    {
      "cell_type": "code",
      "metadata": {
        "id": "CI_jLKbROPh1",
        "colab_type": "code",
        "colab": {
          "base_uri": "https://localhost:8080/",
          "height": 85
        },
        "outputId": "d8a1777c-fea7-4760-fcb5-ed8f1dc05c9c"
      },
      "source": [
        "input_shape = (num_time_periods*num_sensors)\n",
        "x_train = x_train.reshape(x_train.shape[0], input_shape)\n",
        "print('x_train shape:', x_train.shape)\n",
        "print('input_shape:', input_shape)\n",
        "\n",
        "x_test = x_test.reshape(x_test.shape[0], input_shape)\n",
        "print('x_test shape:', x_test.shape)\n",
        "print('input_shape:', input_shape)"
      ],
      "execution_count": null,
      "outputs": [
        {
          "output_type": "stream",
          "text": [
            "x_train shape: (33582, 480)\n",
            "input_shape: 480\n",
            "x_test shape: (3015, 480)\n",
            "input_shape: 480\n"
          ],
          "name": "stdout"
        }
      ]
    },
    {
      "cell_type": "code",
      "metadata": {
        "id": "JjtUQ5LwOULd",
        "colab_type": "code",
        "colab": {}
      },
      "source": [
        "x_train = x_train.astype('float32')\n",
        "y_train = y_train.astype('float32')\n",
        "\n",
        "x_test = x_test.astype('float32')\n",
        "y_test = y_test.astype('float32')"
      ],
      "execution_count": null,
      "outputs": []
    },
    {
      "cell_type": "code",
      "metadata": {
        "id": "dbr5t7V9OUJB",
        "colab_type": "code",
        "colab": {
          "base_uri": "https://localhost:8080/",
          "height": 51
        },
        "outputId": "f6e00f05-8d84-4703-9f3c-7b75d623c0d9"
      },
      "source": [
        "#Converting the labels into one hot vectors\n",
        "y_train_hot = np_utils.to_categorical(y_train, num_classes)\n",
        "print('New y_train shape: ', y_train_hot.shape)\n",
        "\n",
        "y_test_hot = np_utils.to_categorical(y_test, num_classes)\n",
        "print('New y_test shape: ', y_test_hot.shape)"
      ],
      "execution_count": null,
      "outputs": [
        {
          "output_type": "stream",
          "text": [
            "New y_train shape:  (33582, 6)\n",
            "New y_test shape:  (3015, 6)\n"
          ],
          "name": "stdout"
        }
      ]
    },
    {
      "cell_type": "code",
      "metadata": {
        "id": "D4LgD4NrRHUg",
        "colab_type": "code",
        "colab": {}
      },
      "source": [
        "X = x_train\n",
        "Y = y_train"
      ],
      "execution_count": null,
      "outputs": []
    },
    {
      "cell_type": "code",
      "metadata": {
        "id": "MPQNaNCxKU7T",
        "colab_type": "code",
        "colab": {}
      },
      "source": [
        "x_train = np.expand_dims(x_train,2)\n",
        "x_test = np.expand_dims(x_test,2)"
      ],
      "execution_count": null,
      "outputs": []
    },
    {
      "cell_type": "markdown",
      "metadata": {
        "id": "9E7-1nWCywNr",
        "colab_type": "text"
      },
      "source": [
        "##**Upload the LSTM Generated Dataset Files**##"
      ]
    },
    {
      "cell_type": "code",
      "metadata": {
        "id": "4dfwletmxF11",
        "colab_type": "code",
        "colab": {
          "resources": {
            "http://localhost:8080/nbextensions/google.colab/files.js": {
              "data": "Ly8gQ29weXJpZ2h0IDIwMTcgR29vZ2xlIExMQwovLwovLyBMaWNlbnNlZCB1bmRlciB0aGUgQXBhY2hlIExpY2Vuc2UsIFZlcnNpb24gMi4wICh0aGUgIkxpY2Vuc2UiKTsKLy8geW91IG1heSBub3QgdXNlIHRoaXMgZmlsZSBleGNlcHQgaW4gY29tcGxpYW5jZSB3aXRoIHRoZSBMaWNlbnNlLgovLyBZb3UgbWF5IG9idGFpbiBhIGNvcHkgb2YgdGhlIExpY2Vuc2UgYXQKLy8KLy8gICAgICBodHRwOi8vd3d3LmFwYWNoZS5vcmcvbGljZW5zZXMvTElDRU5TRS0yLjAKLy8KLy8gVW5sZXNzIHJlcXVpcmVkIGJ5IGFwcGxpY2FibGUgbGF3IG9yIGFncmVlZCB0byBpbiB3cml0aW5nLCBzb2Z0d2FyZQovLyBkaXN0cmlidXRlZCB1bmRlciB0aGUgTGljZW5zZSBpcyBkaXN0cmlidXRlZCBvbiBhbiAiQVMgSVMiIEJBU0lTLAovLyBXSVRIT1VUIFdBUlJBTlRJRVMgT1IgQ09ORElUSU9OUyBPRiBBTlkgS0lORCwgZWl0aGVyIGV4cHJlc3Mgb3IgaW1wbGllZC4KLy8gU2VlIHRoZSBMaWNlbnNlIGZvciB0aGUgc3BlY2lmaWMgbGFuZ3VhZ2UgZ292ZXJuaW5nIHBlcm1pc3Npb25zIGFuZAovLyBsaW1pdGF0aW9ucyB1bmRlciB0aGUgTGljZW5zZS4KCi8qKgogKiBAZmlsZW92ZXJ2aWV3IEhlbHBlcnMgZm9yIGdvb2dsZS5jb2xhYiBQeXRob24gbW9kdWxlLgogKi8KKGZ1bmN0aW9uKHNjb3BlKSB7CmZ1bmN0aW9uIHNwYW4odGV4dCwgc3R5bGVBdHRyaWJ1dGVzID0ge30pIHsKICBjb25zdCBlbGVtZW50ID0gZG9jdW1lbnQuY3JlYXRlRWxlbWVudCgnc3BhbicpOwogIGVsZW1lbnQudGV4dENvbnRlbnQgPSB0ZXh0OwogIGZvciAoY29uc3Qga2V5IG9mIE9iamVjdC5rZXlzKHN0eWxlQXR0cmlidXRlcykpIHsKICAgIGVsZW1lbnQuc3R5bGVba2V5XSA9IHN0eWxlQXR0cmlidXRlc1trZXldOwogIH0KICByZXR1cm4gZWxlbWVudDsKfQoKLy8gTWF4IG51bWJlciBvZiBieXRlcyB3aGljaCB3aWxsIGJlIHVwbG9hZGVkIGF0IGEgdGltZS4KY29uc3QgTUFYX1BBWUxPQURfU0laRSA9IDEwMCAqIDEwMjQ7Ci8vIE1heCBhbW91bnQgb2YgdGltZSB0byBibG9jayB3YWl0aW5nIGZvciB0aGUgdXNlci4KY29uc3QgRklMRV9DSEFOR0VfVElNRU9VVF9NUyA9IDMwICogMTAwMDsKCmZ1bmN0aW9uIF91cGxvYWRGaWxlcyhpbnB1dElkLCBvdXRwdXRJZCkgewogIGNvbnN0IHN0ZXBzID0gdXBsb2FkRmlsZXNTdGVwKGlucHV0SWQsIG91dHB1dElkKTsKICBjb25zdCBvdXRwdXRFbGVtZW50ID0gZG9jdW1lbnQuZ2V0RWxlbWVudEJ5SWQob3V0cHV0SWQpOwogIC8vIENhY2hlIHN0ZXBzIG9uIHRoZSBvdXRwdXRFbGVtZW50IHRvIG1ha2UgaXQgYXZhaWxhYmxlIGZvciB0aGUgbmV4dCBjYWxsCiAgLy8gdG8gdXBsb2FkRmlsZXNDb250aW51ZSBmcm9tIFB5dGhvbi4KICBvdXRwdXRFbGVtZW50LnN0ZXBzID0gc3RlcHM7CgogIHJldHVybiBfdXBsb2FkRmlsZXNDb250aW51ZShvdXRwdXRJZCk7Cn0KCi8vIFRoaXMgaXMgcm91Z2hseSBhbiBhc3luYyBnZW5lcmF0b3IgKG5vdCBzdXBwb3J0ZWQgaW4gdGhlIGJyb3dzZXIgeWV0KSwKLy8gd2hlcmUgdGhlcmUgYXJlIG11bHRpcGxlIGFzeW5jaHJvbm91cyBzdGVwcyBhbmQgdGhlIFB5dGhvbiBzaWRlIGlzIGdvaW5nCi8vIHRvIHBvbGwgZm9yIGNvbXBsZXRpb24gb2YgZWFjaCBzdGVwLgovLyBUaGlzIHVzZXMgYSBQcm9taXNlIHRvIGJsb2NrIHRoZSBweXRob24gc2lkZSBvbiBjb21wbGV0aW9uIG9mIGVhY2ggc3RlcCwKLy8gdGhlbiBwYXNzZXMgdGhlIHJlc3VsdCBvZiB0aGUgcHJldmlvdXMgc3RlcCBhcyB0aGUgaW5wdXQgdG8gdGhlIG5leHQgc3RlcC4KZnVuY3Rpb24gX3VwbG9hZEZpbGVzQ29udGludWUob3V0cHV0SWQpIHsKICBjb25zdCBvdXRwdXRFbGVtZW50ID0gZG9jdW1lbnQuZ2V0RWxlbWVudEJ5SWQob3V0cHV0SWQpOwogIGNvbnN0IHN0ZXBzID0gb3V0cHV0RWxlbWVudC5zdGVwczsKCiAgY29uc3QgbmV4dCA9IHN0ZXBzLm5leHQob3V0cHV0RWxlbWVudC5sYXN0UHJvbWlzZVZhbHVlKTsKICByZXR1cm4gUHJvbWlzZS5yZXNvbHZlKG5leHQudmFsdWUucHJvbWlzZSkudGhlbigodmFsdWUpID0+IHsKICAgIC8vIENhY2hlIHRoZSBsYXN0IHByb21pc2UgdmFsdWUgdG8gbWFrZSBpdCBhdmFpbGFibGUgdG8gdGhlIG5leHQKICAgIC8vIHN0ZXAgb2YgdGhlIGdlbmVyYXRvci4KICAgIG91dHB1dEVsZW1lbnQubGFzdFByb21pc2VWYWx1ZSA9IHZhbHVlOwogICAgcmV0dXJuIG5leHQudmFsdWUucmVzcG9uc2U7CiAgfSk7Cn0KCi8qKgogKiBHZW5lcmF0b3IgZnVuY3Rpb24gd2hpY2ggaXMgY2FsbGVkIGJldHdlZW4gZWFjaCBhc3luYyBzdGVwIG9mIHRoZSB1cGxvYWQKICogcHJvY2Vzcy4KICogQHBhcmFtIHtzdHJpbmd9IGlucHV0SWQgRWxlbWVudCBJRCBvZiB0aGUgaW5wdXQgZmlsZSBwaWNrZXIgZWxlbWVudC4KICogQHBhcmFtIHtzdHJpbmd9IG91dHB1dElkIEVsZW1lbnQgSUQgb2YgdGhlIG91dHB1dCBkaXNwbGF5LgogKiBAcmV0dXJuIHshSXRlcmFibGU8IU9iamVjdD59IEl0ZXJhYmxlIG9mIG5leHQgc3RlcHMuCiAqLwpmdW5jdGlvbiogdXBsb2FkRmlsZXNTdGVwKGlucHV0SWQsIG91dHB1dElkKSB7CiAgY29uc3QgaW5wdXRFbGVtZW50ID0gZG9jdW1lbnQuZ2V0RWxlbWVudEJ5SWQoaW5wdXRJZCk7CiAgaW5wdXRFbGVtZW50LmRpc2FibGVkID0gZmFsc2U7CgogIGNvbnN0IG91dHB1dEVsZW1lbnQgPSBkb2N1bWVudC5nZXRFbGVtZW50QnlJZChvdXRwdXRJZCk7CiAgb3V0cHV0RWxlbWVudC5pbm5lckhUTUwgPSAnJzsKCiAgY29uc3QgcGlja2VkUHJvbWlzZSA9IG5ldyBQcm9taXNlKChyZXNvbHZlKSA9PiB7CiAgICBpbnB1dEVsZW1lbnQuYWRkRXZlbnRMaXN0ZW5lcignY2hhbmdlJywgKGUpID0+IHsKICAgICAgcmVzb2x2ZShlLnRhcmdldC5maWxlcyk7CiAgICB9KTsKICB9KTsKCiAgY29uc3QgY2FuY2VsID0gZG9jdW1lbnQuY3JlYXRlRWxlbWVudCgnYnV0dG9uJyk7CiAgaW5wdXRFbGVtZW50LnBhcmVudEVsZW1lbnQuYXBwZW5kQ2hpbGQoY2FuY2VsKTsKICBjYW5jZWwudGV4dENvbnRlbnQgPSAnQ2FuY2VsIHVwbG9hZCc7CiAgY29uc3QgY2FuY2VsUHJvbWlzZSA9IG5ldyBQcm9taXNlKChyZXNvbHZlKSA9PiB7CiAgICBjYW5jZWwub25jbGljayA9ICgpID0+IHsKICAgICAgcmVzb2x2ZShudWxsKTsKICAgIH07CiAgfSk7CgogIC8vIENhbmNlbCB1cGxvYWQgaWYgdXNlciBoYXNuJ3QgcGlja2VkIGFueXRoaW5nIGluIHRpbWVvdXQuCiAgY29uc3QgdGltZW91dFByb21pc2UgPSBuZXcgUHJvbWlzZSgocmVzb2x2ZSkgPT4gewogICAgc2V0VGltZW91dCgoKSA9PiB7CiAgICAgIHJlc29sdmUobnVsbCk7CiAgICB9LCBGSUxFX0NIQU5HRV9USU1FT1VUX01TKTsKICB9KTsKCiAgLy8gV2FpdCBmb3IgdGhlIHVzZXIgdG8gcGljayB0aGUgZmlsZXMuCiAgY29uc3QgZmlsZXMgPSB5aWVsZCB7CiAgICBwcm9taXNlOiBQcm9taXNlLnJhY2UoW3BpY2tlZFByb21pc2UsIHRpbWVvdXRQcm9taXNlLCBjYW5jZWxQcm9taXNlXSksCiAgICByZXNwb25zZTogewogICAgICBhY3Rpb246ICdzdGFydGluZycsCiAgICB9CiAgfTsKCiAgaWYgKCFmaWxlcykgewogICAgcmV0dXJuIHsKICAgICAgcmVzcG9uc2U6IHsKICAgICAgICBhY3Rpb246ICdjb21wbGV0ZScsCiAgICAgIH0KICAgIH07CiAgfQoKICBjYW5jZWwucmVtb3ZlKCk7CgogIC8vIERpc2FibGUgdGhlIGlucHV0IGVsZW1lbnQgc2luY2UgZnVydGhlciBwaWNrcyBhcmUgbm90IGFsbG93ZWQuCiAgaW5wdXRFbGVtZW50LmRpc2FibGVkID0gdHJ1ZTsKCiAgZm9yIChjb25zdCBmaWxlIG9mIGZpbGVzKSB7CiAgICBjb25zdCBsaSA9IGRvY3VtZW50LmNyZWF0ZUVsZW1lbnQoJ2xpJyk7CiAgICBsaS5hcHBlbmQoc3BhbihmaWxlLm5hbWUsIHtmb250V2VpZ2h0OiAnYm9sZCd9KSk7CiAgICBsaS5hcHBlbmQoc3BhbigKICAgICAgICBgKCR7ZmlsZS50eXBlIHx8ICduL2EnfSkgLSAke2ZpbGUuc2l6ZX0gYnl0ZXMsIGAgKwogICAgICAgIGBsYXN0IG1vZGlmaWVkOiAkewogICAgICAgICAgICBmaWxlLmxhc3RNb2RpZmllZERhdGUgPyBmaWxlLmxhc3RNb2RpZmllZERhdGUudG9Mb2NhbGVEYXRlU3RyaW5nKCkgOgogICAgICAgICAgICAgICAgICAgICAgICAgICAgICAgICAgICAnbi9hJ30gLSBgKSk7CiAgICBjb25zdCBwZXJjZW50ID0gc3BhbignMCUgZG9uZScpOwogICAgbGkuYXBwZW5kQ2hpbGQocGVyY2VudCk7CgogICAgb3V0cHV0RWxlbWVudC5hcHBlbmRDaGlsZChsaSk7CgogICAgY29uc3QgZmlsZURhdGFQcm9taXNlID0gbmV3IFByb21pc2UoKHJlc29sdmUpID0+IHsKICAgICAgY29uc3QgcmVhZGVyID0gbmV3IEZpbGVSZWFkZXIoKTsKICAgICAgcmVhZGVyLm9ubG9hZCA9IChlKSA9PiB7CiAgICAgICAgcmVzb2x2ZShlLnRhcmdldC5yZXN1bHQpOwogICAgICB9OwogICAgICByZWFkZXIucmVhZEFzQXJyYXlCdWZmZXIoZmlsZSk7CiAgICB9KTsKICAgIC8vIFdhaXQgZm9yIHRoZSBkYXRhIHRvIGJlIHJlYWR5LgogICAgbGV0IGZpbGVEYXRhID0geWllbGQgewogICAgICBwcm9taXNlOiBmaWxlRGF0YVByb21pc2UsCiAgICAgIHJlc3BvbnNlOiB7CiAgICAgICAgYWN0aW9uOiAnY29udGludWUnLAogICAgICB9CiAgICB9OwoKICAgIC8vIFVzZSBhIGNodW5rZWQgc2VuZGluZyB0byBhdm9pZCBtZXNzYWdlIHNpemUgbGltaXRzLiBTZWUgYi82MjExNTY2MC4KICAgIGxldCBwb3NpdGlvbiA9IDA7CiAgICB3aGlsZSAocG9zaXRpb24gPCBmaWxlRGF0YS5ieXRlTGVuZ3RoKSB7CiAgICAgIGNvbnN0IGxlbmd0aCA9IE1hdGgubWluKGZpbGVEYXRhLmJ5dGVMZW5ndGggLSBwb3NpdGlvbiwgTUFYX1BBWUxPQURfU0laRSk7CiAgICAgIGNvbnN0IGNodW5rID0gbmV3IFVpbnQ4QXJyYXkoZmlsZURhdGEsIHBvc2l0aW9uLCBsZW5ndGgpOwogICAgICBwb3NpdGlvbiArPSBsZW5ndGg7CgogICAgICBjb25zdCBiYXNlNjQgPSBidG9hKFN0cmluZy5mcm9tQ2hhckNvZGUuYXBwbHkobnVsbCwgY2h1bmspKTsKICAgICAgeWllbGQgewogICAgICAgIHJlc3BvbnNlOiB7CiAgICAgICAgICBhY3Rpb246ICdhcHBlbmQnLAogICAgICAgICAgZmlsZTogZmlsZS5uYW1lLAogICAgICAgICAgZGF0YTogYmFzZTY0LAogICAgICAgIH0sCiAgICAgIH07CiAgICAgIHBlcmNlbnQudGV4dENvbnRlbnQgPQogICAgICAgICAgYCR7TWF0aC5yb3VuZCgocG9zaXRpb24gLyBmaWxlRGF0YS5ieXRlTGVuZ3RoKSAqIDEwMCl9JSBkb25lYDsKICAgIH0KICB9CgogIC8vIEFsbCBkb25lLgogIHlpZWxkIHsKICAgIHJlc3BvbnNlOiB7CiAgICAgIGFjdGlvbjogJ2NvbXBsZXRlJywKICAgIH0KICB9Owp9CgpzY29wZS5nb29nbGUgPSBzY29wZS5nb29nbGUgfHwge307CnNjb3BlLmdvb2dsZS5jb2xhYiA9IHNjb3BlLmdvb2dsZS5jb2xhYiB8fCB7fTsKc2NvcGUuZ29vZ2xlLmNvbGFiLl9maWxlcyA9IHsKICBfdXBsb2FkRmlsZXMsCiAgX3VwbG9hZEZpbGVzQ29udGludWUsCn07Cn0pKHNlbGYpOwo=",
              "ok": true,
              "headers": [
                [
                  "content-type",
                  "application/javascript"
                ]
              ],
              "status": 200,
              "status_text": ""
            }
          },
          "base_uri": "https://localhost:8080/",
          "height": 244
        },
        "outputId": "b602072d-fa7a-4ebb-e540-c5d1eae254d2"
      },
      "source": [
        "from google.colab import files\n",
        "uploaded = files.upload()"
      ],
      "execution_count": null,
      "outputs": [
        {
          "output_type": "display_data",
          "data": {
            "text/html": [
              "\n",
              "     <input type=\"file\" id=\"files-7565175a-aeb5-494d-ab32-eb1d8050a4f5\" name=\"files[]\" multiple disabled />\n",
              "     <output id=\"result-7565175a-aeb5-494d-ab32-eb1d8050a4f5\">\n",
              "      Upload widget is only available when the cell has been executed in the\n",
              "      current browser session. Please rerun this cell to enable.\n",
              "      </output>\n",
              "      <script src=\"/nbextensions/google.colab/files.js\"></script> "
            ],
            "text/plain": [
              "<IPython.core.display.HTML object>"
            ]
          },
          "metadata": {
            "tags": []
          }
        },
        {
          "output_type": "stream",
          "text": [
            "Saving Downstairs.txt to Downstairs.txt\n",
            "Saving Jogging.txt to Jogging.txt\n",
            "Saving Sitting.txt to Sitting.txt\n",
            "Saving Standing.txt to Standing.txt\n",
            "Saving Upstairs.txt to Upstairs.txt\n",
            "Saving Walking.txt to Walking.txt\n"
          ],
          "name": "stdout"
        }
      ]
    },
    {
      "cell_type": "code",
      "metadata": {
        "id": "RP8bY4djxy9G",
        "colab_type": "code",
        "colab": {}
      },
      "source": [
        "#Load the text and store it in an numpy array format\n",
        "l1 = np.loadtxt('Downstairs.txt', dtype=float)\n",
        "l2 = np.loadtxt('Jogging.txt', dtype=float)\n",
        "l3 = np.loadtxt('Sitting.txt', dtype=float)\n",
        "l4 = np.loadtxt('Standing.txt', dtype=float)\n",
        "l5 = np.loadtxt('Upstairs.txt', dtype=float)\n",
        "l6 = np.loadtxt('Walking.txt', dtype=float)"
      ],
      "execution_count": null,
      "outputs": []
    },
    {
      "cell_type": "code",
      "metadata": {
        "id": "FG5PQoft5jNg",
        "colab_type": "code",
        "colab": {}
      },
      "source": [
        "#Reshape the arrays into the desired format for training\n",
        "l1 = np.reshape(l1,(500,480,1))\n",
        "l2 = np.reshape(l2,(500,480,1))\n",
        "l3 = np.reshape(l3,(500,480,1))\n",
        "l4 = np.reshape(l4,(500,480,1))\n",
        "l5 = np.reshape(l5,(500,480,1))\n",
        "l6 = np.reshape(l6,(500,480,1))"
      ],
      "execution_count": null,
      "outputs": []
    },
    {
      "cell_type": "code",
      "metadata": {
        "id": "UTe8AR0-yHjX",
        "colab_type": "code",
        "colab": {}
      },
      "source": [
        "#Prepare the generated data sequence labels for each of the activities\n",
        "y = []\n",
        "for i in range(len(l1)*6):\n",
        "  if i<(len(l1)*1):\n",
        "    y.append([0])\n",
        "  if i>=(len(l1)*1) and i<(len(l1)*2):\n",
        "    y.append([1])\n",
        "  if i>=(len(l1)*2) and i<(len(l1)*3):\n",
        "    y.append([2])\n",
        "  if i>=(len(l1)*3) and i<(len(l1)*4):\n",
        "    y.append([3])\n",
        "  if i>=(len(l1)*4) and i<(len(l1)*5):\n",
        "    y.append([4])\n",
        "  if i>=(len(l1)*5) and i<(len(l1)*6):\n",
        "    y.append([5])"
      ],
      "execution_count": null,
      "outputs": []
    },
    {
      "cell_type": "code",
      "metadata": {
        "id": "HPvThFgiz8xr",
        "colab_type": "code",
        "colab": {
          "base_uri": "https://localhost:8080/",
          "height": 34
        },
        "outputId": "e188448e-c053-44ec-c518-dfb3ae9159ac"
      },
      "source": [
        "#Shape of the generated data sequence labels\n",
        "y = np.array(y)\n",
        "y.shape"
      ],
      "execution_count": null,
      "outputs": [
        {
          "output_type": "execute_result",
          "data": {
            "text/plain": [
              "(3000, 1)"
            ]
          },
          "metadata": {
            "tags": []
          },
          "execution_count": 30
        }
      ]
    },
    {
      "cell_type": "code",
      "metadata": {
        "id": "me-LJphco809",
        "colab_type": "code",
        "colab": {
          "base_uri": "https://localhost:8080/",
          "height": 34
        },
        "outputId": "33507a9e-cbbf-4c0d-b0cb-f30e8f09d226"
      },
      "source": [
        "#Combine all the difference activity data sequences\n",
        "x = np.concatenate((l1,l2,l3,l4,l5,l6))\n",
        "x.shape"
      ],
      "execution_count": null,
      "outputs": [
        {
          "output_type": "execute_result",
          "data": {
            "text/plain": [
              "(3000, 480, 1)"
            ]
          },
          "metadata": {
            "tags": []
          },
          "execution_count": 31
        }
      ]
    },
    {
      "cell_type": "code",
      "metadata": {
        "id": "s5c4SffQ2x19",
        "colab_type": "code",
        "colab": {
          "base_uri": "https://localhost:8080/",
          "height": 34
        },
        "outputId": "afc3767e-35c9-494b-e1d5-153ea282a99c"
      },
      "source": [
        "#Again transform the generated activity labels to one hot vectors\n",
        "from keras.utils import to_categorical\n",
        "\n",
        "y = to_categorical(y)\n",
        "print(y.shape)"
      ],
      "execution_count": null,
      "outputs": [
        {
          "output_type": "stream",
          "text": [
            "(3000, 6)\n"
          ],
          "name": "stdout"
        }
      ]
    },
    {
      "cell_type": "code",
      "metadata": {
        "id": "4D4zqSnL5DCp",
        "colab_type": "code",
        "colab": {
          "base_uri": "https://localhost:8080/",
          "height": 34
        },
        "outputId": "59e957d8-7c84-461c-8571-4fa73702d9be"
      },
      "source": [
        "y_train_hot.shape\n",
        "y.shape"
      ],
      "execution_count": null,
      "outputs": [
        {
          "output_type": "execute_result",
          "data": {
            "text/plain": [
              "(3000, 6)"
            ]
          },
          "metadata": {
            "tags": []
          },
          "execution_count": 33
        }
      ]
    },
    {
      "cell_type": "code",
      "metadata": {
        "id": "iwmkE3ip_jk2",
        "colab_type": "code",
        "colab": {}
      },
      "source": [
        "#Combine the generated activity data with the original dataset to increase the dataset size for training\n",
        "x1 = np.concatenate((x_train,x))\n",
        "y1 = np.concatenate((y_train_hot,y))"
      ],
      "execution_count": null,
      "outputs": []
    },
    {
      "cell_type": "code",
      "metadata": {
        "id": "DjsgVfgvrW5l",
        "colab_type": "code",
        "colab": {}
      },
      "source": [
        "A1 = x1\n",
        "B1 = y1\n",
        "A2 = x_test\n",
        "B2 = y_test_hot"
      ],
      "execution_count": null,
      "outputs": []
    },
    {
      "cell_type": "code",
      "metadata": {
        "id": "WRCC8Ei5FsIC",
        "colab_type": "code",
        "colab": {}
      },
      "source": [
        "x1 = A1\n",
        "y1 = B1\n",
        "x_test = A2\n",
        "y_test_hot = B2"
      ],
      "execution_count": null,
      "outputs": []
    },
    {
      "cell_type": "code",
      "metadata": {
        "id": "OEQAbNA9JPHR",
        "colab_type": "code",
        "colab": {}
      },
      "source": [
        "#Shuffle the Dataset entries\n",
        "\n",
        "from sklearn.utils import shuffle\n",
        "\n",
        "for i in range(100):\n",
        "  x_train, y_train_hot = shuffle(x_train, y_train_hot, random_state=0)\n",
        "\n",
        "  x_test, y_test_hot = shuffle(x_test, y_test_hot, random_state=0)\n",
        "\n",
        "  x, y = shuffle(x, y, random_state=0)\n",
        "\n",
        "  x1, y1 = shuffle(x1, y1, random_state=0)"
      ],
      "execution_count": null,
      "outputs": []
    },
    {
      "cell_type": "markdown",
      "metadata": {
        "id": "rmnRzfsD7Yca",
        "colab_type": "text"
      },
      "source": [
        "##**Activity Classifier on Original Dataset**##"
      ]
    },
    {
      "cell_type": "code",
      "metadata": {
        "id": "4lmYLbQ7FrTH",
        "colab_type": "code",
        "colab": {
          "base_uri": "https://localhost:8080/",
          "height": 391
        },
        "outputId": "e3cbb56b-661c-4958-dbd3-5ea716345be2"
      },
      "source": [
        "#Build a 1-D Convolution Activity Classifier\n",
        "model1 = Sequential()\n",
        "model1.add(Conv1D(filters=32, kernel_size=3, activation='relu',kernel_initializer='he_uniform',input_shape=(480,1)))\n",
        "model1.add(Conv1D(filters=32, kernel_size=3, activation='relu',kernel_initializer='he_uniform'))\n",
        "model1.add(Dropout(0.6))\n",
        "model1.add(MaxPooling1D(pool_size=2))\n",
        "model1.add(Flatten())\n",
        "model1.add(Dense(50, activation='relu'))\n",
        "model1.add(Dense(6, activation='softmax'))\n",
        "model1.summary()"
      ],
      "execution_count": null,
      "outputs": [
        {
          "output_type": "stream",
          "text": [
            "Model: \"sequential_1\"\n",
            "_________________________________________________________________\n",
            "Layer (type)                 Output Shape              Param #   \n",
            "=================================================================\n",
            "conv1d_1 (Conv1D)            (None, 478, 32)           128       \n",
            "_________________________________________________________________\n",
            "conv1d_2 (Conv1D)            (None, 476, 32)           3104      \n",
            "_________________________________________________________________\n",
            "dropout_1 (Dropout)          (None, 476, 32)           0         \n",
            "_________________________________________________________________\n",
            "max_pooling1d_1 (MaxPooling1 (None, 238, 32)           0         \n",
            "_________________________________________________________________\n",
            "flatten_1 (Flatten)          (None, 7616)              0         \n",
            "_________________________________________________________________\n",
            "dense_1 (Dense)              (None, 50)                380850    \n",
            "_________________________________________________________________\n",
            "dense_2 (Dense)              (None, 6)                 306       \n",
            "=================================================================\n",
            "Total params: 384,388\n",
            "Trainable params: 384,388\n",
            "Non-trainable params: 0\n",
            "_________________________________________________________________\n"
          ],
          "name": "stdout"
        }
      ]
    },
    {
      "cell_type": "code",
      "metadata": {
        "id": "5JoZ26OqJIwT",
        "colab_type": "code",
        "colab": {}
      },
      "source": [
        "model1.compile(loss='categorical_crossentropy', optimizer=Adam(lr = 0.0002), metrics=['accuracy'])"
      ],
      "execution_count": null,
      "outputs": []
    },
    {
      "cell_type": "code",
      "metadata": {
        "id": "HxO-0Tiv7Vuc",
        "colab_type": "code",
        "colab": {}
      },
      "source": [
        "#Train model1 for 100 epochs\n",
        "history1 = model1.fit(x=x_train, y=y_train_hot, batch_size=32, epochs = 100, verbose=1,validation_data = (x_test,y_test_hot), shuffle = True)"
      ],
      "execution_count": null,
      "outputs": []
    },
    {
      "cell_type": "code",
      "metadata": {
        "id": "1Kt0d_Bx9bVH",
        "colab_type": "code",
        "colab": {
          "base_uri": "https://localhost:8080/",
          "height": 411
        },
        "outputId": "632cfd92-94ee-4d1d-d715-136fd8c0286d"
      },
      "source": [
        "#Plot the training history of the model trained on original dataset\n",
        "plt.figure(figsize=(8, 6))\n",
        "plt.plot(history1.history['accuracy'], 'r', label='Accuracy of training data')\n",
        "plt.plot(history1.history['val_accuracy'], 'b', label='Accuracy of validation data')\n",
        "plt.plot(history1.history['loss'], 'r--', label='Loss of training data')\n",
        "plt.plot(history1.history['val_loss'], 'b--', label='Loss of validation data')\n",
        "plt.title('Model1 Accuracy and Loss')\n",
        "plt.ylabel('Accuracy and Loss')\n",
        "plt.xlabel('Training Epoch')\n",
        "plt.ylim(0)\n",
        "plt.legend()\n",
        "plt.show()"
      ],
      "execution_count": null,
      "outputs": [
        {
          "output_type": "display_data",
          "data": {
            "image/png": "[encoded data removed]",
            "text/plain": [
              "<Figure size 576x432 with 1 Axes>"
            ]
          },
          "metadata": {
            "tags": []
          }
        }
      ]
    },
    {
      "cell_type": "code",
      "metadata": {
        "id": "aJwTF_XX912n",
        "colab_type": "code",
        "colab": {
          "base_uri": "https://localhost:8080/",
          "height": 574
        },
        "outputId": "d0668cd1-3689-4b41-b529-6511bfdde02c"
      },
      "source": [
        "def show_confusion_matrix(validations, predictions):\n",
        "\n",
        "    matrix = metrics.confusion_matrix(validations, predictions)\n",
        "    plt.figure(figsize=(6, 4))\n",
        "    sns.heatmap(matrix,\n",
        "                cmap='coolwarm',\n",
        "                linecolor='white',\n",
        "                linewidths=1,\n",
        "                xticklabels=LABELS,\n",
        "                yticklabels=LABELS,\n",
        "                annot=True,\n",
        "                fmt='d')\n",
        "    plt.title('Confusion Matrix')\n",
        "    plt.ylabel('True Label')\n",
        "    plt.xlabel('Predicted Label')\n",
        "    plt.show()\n",
        "\n",
        "y_pred_test = model1.predict(x_test)\n",
        "# Take the class with the highest probability from the test predictions\n",
        "max_y_pred_test = np.argmax(y_pred_test, axis=1)\n",
        "max_y_test = np.argmax(y_test_hot, axis=1)\n",
        "\n",
        "show_confusion_matrix(max_y_test, max_y_pred_test)\n",
        "\n",
        "print(classification_report(max_y_test, max_y_pred_test))"
      ],
      "execution_count": null,
      "outputs": [
        {
          "output_type": "display_data",
          "data": {
            "image/png": "[encoded data removed]",
            "text/plain": [
              "<Figure size 432x288 with 2 Axes>"
            ]
          },
          "metadata": {
            "tags": []
          }
        },
        {
          "output_type": "stream",
          "text": [
            "              precision    recall  f1-score   support\n",
            "\n",
            "           0       0.78      0.85      0.81       232\n",
            "           1       0.97      0.92      0.95      1250\n",
            "           2       0.73      0.99      0.84       190\n",
            "           3       0.73      0.69      0.71       143\n",
            "           4       0.73      0.69      0.71       311\n",
            "           5       0.92      0.91      0.92       889\n",
            "\n",
            "    accuracy                           0.88      3015\n",
            "   macro avg       0.81      0.84      0.82      3015\n",
            "weighted avg       0.89      0.88      0.88      3015\n",
            "\n"
          ],
          "name": "stdout"
        }
      ]
    },
    {
      "cell_type": "code",
      "metadata": {
        "id": "4E9nIUIG97Ch",
        "colab_type": "code",
        "colab": {
          "base_uri": "https://localhost:8080/",
          "height": 51
        },
        "outputId": "27f4cae4-6b62-4025-cd8c-6122eb6c4e33"
      },
      "source": [
        "#Final testing accuracy on the test dataset\n",
        "test_loss,test_acc=model1.evaluate(x_test, y_test_hot)\n",
        "print(test_loss,test_acc*100)"
      ],
      "execution_count": null,
      "outputs": [
        {
          "output_type": "stream",
          "text": [
            "3015/3015 [==============================] - 0s 109us/step\n",
            "0.7219075807268309 88.35821151733398\n"
          ],
          "name": "stdout"
        }
      ]
    },
    {
      "cell_type": "markdown",
      "metadata": {
        "id": "NIYmR0sP8O2V",
        "colab_type": "text"
      },
      "source": [
        "##**Activity Classifier on Combined Dataset**##"
      ]
    },
    {
      "cell_type": "code",
      "metadata": {
        "id": "fHg_klIk8J-w",
        "colab_type": "code",
        "colab": {}
      },
      "source": [
        "#Build and train another model on the combined dataset\n",
        "model2 = Sequential()\n",
        "model2.add(Conv1D(filters=32, kernel_size=3, activation='relu',kernel_initializer='he_uniform',input_shape=(480,1)))\n",
        "model2.add(Conv1D(filters=32, kernel_size=3, activation='relu',kernel_initializer='he_uniform'))\n",
        "model2.add(Dropout(0.6))\n",
        "model2.add(MaxPooling1D(pool_size=2))\n",
        "model2.add(Flatten())\n",
        "model2.add(Dense(50, activation='relu'))\n",
        "model2.add(Dense(6, activation='softmax'))\n",
        "#model2.summary()"
      ],
      "execution_count": null,
      "outputs": []
    },
    {
      "cell_type": "code",
      "metadata": {
        "id": "5w85-iO39IFN",
        "colab_type": "code",
        "colab": {}
      },
      "source": [
        "model2.compile(loss='categorical_crossentropy', optimizer=Adam(lr = 0.0002), metrics=['accuracy'])"
      ],
      "execution_count": null,
      "outputs": []
    },
    {
      "cell_type": "code",
      "metadata": {
        "id": "kk_gu8bg_1M5",
        "colab_type": "code",
        "colab": {}
      },
      "source": [
        "#Note: Validation results may vary sometimes with shuffing and data arrangement\n",
        "history2 = model2.fit(x=x1, y=y1, batch_size=32, epochs = 100, verbose=1,validation_data = (x_test,y_test_hot), shuffle = True)"
      ],
      "execution_count": null,
      "outputs": []
    },
    {
      "cell_type": "code",
      "metadata": {
        "id": "HUOfVDeybDEi",
        "colab_type": "code",
        "colab": {
          "base_uri": "https://localhost:8080/",
          "height": 574
        },
        "outputId": "7e9737a9-cc97-41a8-baa2-80f55f1d3e5a"
      },
      "source": [
        "def show_confusion_matrix(validations, predictions):\n",
        "\n",
        "    matrix = metrics.confusion_matrix(validations, predictions)\n",
        "    plt.figure(figsize=(6, 4))\n",
        "    sns.heatmap(matrix,\n",
        "                cmap='coolwarm',\n",
        "                linecolor='white',\n",
        "                linewidths=1,\n",
        "                xticklabels=LABELS,\n",
        "                yticklabels=LABELS,\n",
        "                annot=True,\n",
        "                fmt='d')\n",
        "    plt.title('Confusion Matrix')\n",
        "    plt.ylabel('True Label')\n",
        "    plt.xlabel('Predicted Label')\n",
        "    plt.show()\n",
        "\n",
        "y_pred_test = model2.predict(x_test)\n",
        "# Take the class with the highest probability from the test predictions\n",
        "max_y_pred_test = np.argmax(y_pred_test, axis=1)\n",
        "max_y_test = np.argmax(y_test_hot, axis=1)\n",
        "\n",
        "show_confusion_matrix(max_y_test, max_y_pred_test)\n",
        "\n",
        "print(classification_report(max_y_test, max_y_pred_test))"
      ],
      "execution_count": null,
      "outputs": [
        {
          "output_type": "display_data",
          "data": {
            "image/png": "[encoded data removed]",
            "text/plain": [
              "<Figure size 432x288 with 2 Axes>"
            ]
          },
          "metadata": {
            "tags": []
          }
        },
        {
          "output_type": "stream",
          "text": [
            "              precision    recall  f1-score   support\n",
            "\n",
            "           0       0.83      0.92      0.87       232\n",
            "           1       0.98      0.94      0.96      1250\n",
            "           2       0.99      0.98      0.98       190\n",
            "           3       0.99      0.97      0.98       143\n",
            "           4       0.87      0.83      0.85       311\n",
            "           5       0.92      0.97      0.95       889\n",
            "\n",
            "    accuracy                           0.94      3015\n",
            "   macro avg       0.93      0.94      0.93      3015\n",
            "weighted avg       0.94      0.94      0.94      3015\n",
            "\n"
          ],
          "name": "stdout"
        }
      ]
    },
    {
      "cell_type": "code",
      "metadata": {
        "id": "zpUuWmhigGHh",
        "colab_type": "code",
        "colab": {
          "base_uri": "https://localhost:8080/",
          "height": 51
        },
        "outputId": "48122f7f-68ca-47b2-be95-a84b40b6c830"
      },
      "source": [
        "#Final test dataset accuracy\n",
        "test_loss,test_acc=model2.evaluate(x_test, y_test_hot)\n",
        "print(test_loss,test_acc*100)"
      ],
      "execution_count": null,
      "outputs": [
        {
          "output_type": "stream",
          "text": [
            "3015/3015 [==============================] - 0s 52us/step\n",
            "0.4909047327642244 94.09618573797678\n"
          ],
          "name": "stdout"
        }
      ]
    },
    {
      "cell_type": "code",
      "metadata": {
        "id": "rPqi044wf7u7",
        "colab_type": "code",
        "colab": {
          "base_uri": "https://localhost:8080/",
          "height": 632
        },
        "outputId": "321f40c2-bf17-4d93-9539-3dda877bd7eb"
      },
      "source": [
        "plt.figure(figsize=(10, 6))\n",
        "plt.plot(history2.history['val_accuracy'], 'b', label='Combined Dataset Val_Accuracy')\n",
        "plt.plot(history1.history['val_accuracy'], 'r', label='Original Dataset Val_Accuracy')\n",
        "\n",
        "plt.title('Model Validation Accuracy')\n",
        "plt.ylabel('validation Accuracy')\n",
        "plt.xlabel('Training Epoch')\n",
        "plt.legend()\n",
        "plt.show()"
      ],
      "execution_count": null,
      "outputs": [
        {
          "output_type": "display_data",
          "data": {
            "image/png": "[encoded data removed]",
            "text/plain": [
              "<Figure size 720x432 with 1 Axes>"
            ]
          },
          "metadata": {
            "tags": []
          }
        },
        {
          "output_type": "stream",
          "text": [
            "              precision    recall  f1-score   support\n",
            "\n",
            "         0.0       0.09      0.50      0.16      3116\n",
            "         1.0       0.27      0.00      0.00     10159\n",
            "         2.0       0.05      0.03      0.04      1806\n",
            "         3.0       0.04      0.04      0.04      1468\n",
            "         4.0       0.11      0.01      0.02      3780\n",
            "         5.0       0.40      0.44      0.42     13253\n",
            "\n",
            "    accuracy                           0.22     33582\n",
            "   macro avg       0.16      0.17      0.11     33582\n",
            "weighted avg       0.27      0.22      0.19     33582\n",
            "\n"
          ],
          "name": "stdout"
        }
      ]
    }
  ]
}